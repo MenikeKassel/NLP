{
 "cells": [
  {
   "cell_type": "code",
   "execution_count": 4,
   "id": "7139ebd5",
   "metadata": {
    "ExecuteTime": {
     "end_time": "2022-12-26T10:29:18.429580Z",
     "start_time": "2022-12-26T10:28:55.432550Z"
    }
   },
   "outputs": [
    {
     "name": "stdout",
     "output_type": "stream",
     "text": [
      "Looking in indexes: https://pypi.tuna.tsinghua.edu.cn/simple\n",
      "Collecting torchtext\n",
      "  Downloading https://pypi.tuna.tsinghua.edu.cn/packages/42/79/180c0923c12352ac5405d50ef7d40d7ab9d12d76c8f17cdfbff8b1a76389/torchtext-0.14.1-cp39-cp39-win_amd64.whl (1.9 MB)\n",
      "     ---------------------------------------- 1.9/1.9 MB 2.1 MB/s eta 0:00:00\n",
      "Requirement already satisfied: numpy in d:\\anaconda3\\envs\\visualization\\lib\\site-packages (from torchtext) (1.23.5)\n",
      "Requirement already satisfied: requests in d:\\anaconda3\\envs\\visualization\\lib\\site-packages (from torchtext) (2.28.1)\n",
      "Requirement already satisfied: tqdm in d:\\anaconda3\\envs\\visualization\\lib\\site-packages (from torchtext) (4.64.1)\n",
      "Requirement already satisfied: torch==1.13.1 in d:\\anaconda3\\envs\\visualization\\lib\\site-packages (from torchtext) (1.13.1)\n",
      "Requirement already satisfied: typing-extensions in d:\\anaconda3\\envs\\visualization\\lib\\site-packages (from torch==1.13.1->torchtext) (4.3.0)\n",
      "Requirement already satisfied: idna<4,>=2.5 in d:\\anaconda3\\envs\\visualization\\lib\\site-packages (from requests->torchtext) (3.4)\n",
      "Requirement already satisfied: charset-normalizer<3,>=2 in d:\\anaconda3\\envs\\visualization\\lib\\site-packages (from requests->torchtext) (2.1.1)\n",
      "Requirement already satisfied: urllib3<1.27,>=1.21.1 in d:\\anaconda3\\envs\\visualization\\lib\\site-packages (from requests->torchtext) (1.26.13)\n",
      "Requirement already satisfied: certifi>=2017.4.17 in d:\\anaconda3\\envs\\visualization\\lib\\site-packages (from requests->torchtext) (2022.9.24)\n",
      "Requirement already satisfied: colorama in d:\\anaconda3\\envs\\visualization\\lib\\site-packages (from tqdm->torchtext) (0.4.5)\n",
      "Installing collected packages: torchtext\n",
      "Successfully installed torchtext-0.14.1\n",
      "Note: you may need to restart the kernel to use updated packages.\n"
     ]
    }
   ],
   "source": [
    "pip install torchtext -i https://pypi.tuna.tsinghua.edu.cn/simple"
   ]
  },
  {
   "cell_type": "code",
   "execution_count": 2,
   "id": "d7f612db",
   "metadata": {
    "ExecuteTime": {
     "end_time": "2022-12-26T10:28:07.259341Z",
     "start_time": "2022-12-26T10:27:57.500041Z"
    }
   },
   "outputs": [
    {
     "name": "stdout",
     "output_type": "stream",
     "text": [
      "Requirement already satisfied: torch in d:\\anaconda3\\envs\\visualization\\lib\\site-packages (1.13.1)Note: you may need to restart the kernel to use updated packages.\n",
      "\n",
      "Requirement already satisfied: typing-extensions in d:\\anaconda3\\envs\\visualization\\lib\\site-packages (from torch) (4.3.0)\n"
     ]
    }
   ],
   "source": [
    "pip install torch"
   ]
  },
  {
   "cell_type": "code",
   "execution_count": 7,
   "id": "c6e9d405",
   "metadata": {
    "ExecuteTime": {
     "end_time": "2022-12-26T10:33:54.002940Z",
     "start_time": "2022-12-26T10:33:53.976639Z"
    }
   },
   "outputs": [
    {
     "ename": "ModuleNotFoundError",
     "evalue": "No module named 'torchtext.legacy'",
     "output_type": "error",
     "traceback": [
      "\u001b[1;31m---------------------------------------------------------------------------\u001b[0m",
      "\u001b[1;31mModuleNotFoundError\u001b[0m                       Traceback (most recent call last)",
      "Cell \u001b[1;32mIn [7], line 3\u001b[0m\n\u001b[0;32m      1\u001b[0m \u001b[38;5;28;01mimport\u001b[39;00m \u001b[38;5;21;01mtorchtext\u001b[39;00m\n\u001b[0;32m      2\u001b[0m \u001b[38;5;28;01mimport\u001b[39;00m \u001b[38;5;21;01mtorch\u001b[39;00m\n\u001b[1;32m----> 3\u001b[0m \u001b[38;5;28;01mfrom\u001b[39;00m \u001b[38;5;21;01mtorchtext\u001b[39;00m\u001b[38;5;21;01m.\u001b[39;00m\u001b[38;5;21;01mlegacy\u001b[39;00m\u001b[38;5;21;01m.\u001b[39;00m\u001b[38;5;21;01mdata\u001b[39;00m \u001b[38;5;28;01mimport\u001b[39;00m Field\n\u001b[0;32m      5\u001b[0m \u001b[38;5;66;03m#声明一个Field对象，对象里面填的就是需要对文本进行哪些操作，比如这里lower=True英文大写转小写,tokenize=cut对于文本分词采用之前定义好的cut函数，sequence=True表示输入的是一个sequence类型的数据，还有其他更多操作可以参考文档\u001b[39;00m\n\u001b[0;32m      6\u001b[0m TEXT \u001b[38;5;241m=\u001b[39m torchtext\u001b[38;5;241m.\u001b[39mdata\u001b[38;5;241m.\u001b[39mField(sequential\u001b[38;5;241m=\u001b[39m\u001b[38;5;28;01mTrue\u001b[39;00m,lower\u001b[38;5;241m=\u001b[39m\u001b[38;5;28;01mTrue\u001b[39;00m,tokenize\u001b[38;5;241m=\u001b[39mcut)\n",
      "\u001b[1;31mModuleNotFoundError\u001b[0m: No module named 'torchtext.legacy'"
     ]
    }
   ],
   "source": [
    "import torchtext\n",
    "import torch\n",
    "from torchtext.legacy.data import Field\n",
    "\n",
    "#声明一个Field对象，对象里面填的就是需要对文本进行哪些操作，比如这里lower=True英文大写转小写,tokenize=cut对于文本分词采用之前定义好的cut函数，sequence=True表示输入的是一个sequence类型的数据，还有其他更多操作可以参考文档\n",
    "TEXT = torchtext.data.Field(sequential=True,lower=True,tokenize=cut)\n",
    "#声明一个标签的LabelField对象，sequential=False表示标签不是sequence，dtype=torch.int64标签转化成整形\n",
    "LABEL = torchtext.data.LabelField(sequential=False, dtype=torch.int64)\n"
   ]
  },
  {
   "cell_type": "code",
   "execution_count": null,
   "id": "217c8878",
   "metadata": {},
   "outputs": [],
   "source": []
  }
 ],
 "metadata": {
  "kernelspec": {
   "display_name": "Python 3 (ipykernel)",
   "language": "python",
   "name": "python3"
  },
  "language_info": {
   "codemirror_mode": {
    "name": "ipython",
    "version": 3
   },
   "file_extension": ".py",
   "mimetype": "text/x-python",
   "name": "python",
   "nbconvert_exporter": "python",
   "pygments_lexer": "ipython3",
   "version": "3.9.15"
  },
  "toc": {
   "base_numbering": 1,
   "nav_menu": {},
   "number_sections": true,
   "sideBar": true,
   "skip_h1_title": false,
   "title_cell": "Table of Contents",
   "title_sidebar": "Contents",
   "toc_cell": false,
   "toc_position": {},
   "toc_section_display": true,
   "toc_window_display": false
  }
 },
 "nbformat": 4,
 "nbformat_minor": 5
}
