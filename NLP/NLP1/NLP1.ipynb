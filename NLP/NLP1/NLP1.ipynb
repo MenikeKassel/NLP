{
 "cells": [
  {
   "cell_type": "code",
   "execution_count": 1,
   "id": "af8742f7",
   "metadata": {
    "ExecuteTime": {
     "end_time": "2022-12-10T03:38:36.610078Z",
     "start_time": "2022-12-10T03:38:34.971166Z"
    }
   },
   "outputs": [
    {
     "name": "stderr",
     "output_type": "stream",
     "text": [
      "Building prefix dict from the default dictionary ...\n",
      "Loading model from cache C:\\Users\\12973\\AppData\\Local\\Temp\\jieba.cache\n",
      "Loading model cost 0.602 seconds.\n",
      "Prefix dict has been built successfully.\n"
     ]
    }
   ],
   "source": [
    "import jieba\n",
    "import jieba.analyse\n",
    "import jieba.posseg as pseg\n",
    "import re\n",
    "from pyltp import NamedEntityRecognizer\n",
    "\n",
    "# 创建停用词list\n",
    "def stopwordslist(filepath):\n",
    "    stopwords = [line.strip() for line in open(filepath, 'r', encoding='utf-8').readlines()]\n",
    "    return stopwords\n",
    "# 对句子进行分词\n",
    "def seg_sentence(sentence):\n",
    "    sentence_seged = jieba.cut(sentence.strip())\n",
    "    stopwords = stopwordslist('./data/stopwords.txt')  # 这里加载停用词的路径\n",
    "    outstr = ''\n",
    "    for word in sentence_seged:\n",
    "        if word not in stopwords:\n",
    "            if word != '\\t':\n",
    "                outstr += word\n",
    "                outstr += \" \"\n",
    "    return outstr\n",
    "inputs = open('./data/20report.txt', 'r', encoding='utf-8')\n",
    "outputs = open('./data/20report_fenci.txt', 'w', encoding='utf-8')\n",
    "for line in inputs:\n",
    "    line_seg = seg_sentence(line)  # 这里的返回值是字符串\n",
    "    outputs.write(line_seg + '\\n')\n",
    "outputs.close()\n",
    "inputs.close()"
   ]
  },
  {
   "cell_type": "code",
   "execution_count": 2,
   "id": "5097afc5",
   "metadata": {
    "ExecuteTime": {
     "end_time": "2022-12-10T03:38:42.968299Z",
     "start_time": "2022-12-10T03:38:36.613913Z"
    }
   },
   "outputs": [
    {
     "name": "stdout",
     "output_type": "stream",
     "text": [
      "发展 0.9658187627792358\n",
      "社会主义 0.9640661478042603\n",
      "坚持 0.963741660118103\n",
      "中国 0.9610973596572876\n",
      "建设 0.9605240821838379\n",
      "新 0.9585800170898438\n",
      "体系 0.9560775756835938\n",
      "政治 0.9525172710418701\n",
      "全面 0.9518018364906311\n",
      "党 0.9513825178146362\n"
     ]
    }
   ],
   "source": [
    "import jieba\n",
    "from gensim.models import word2vec\n",
    "\n",
    "# 加载语料\n",
    "sentences = word2vec.Text8Corpus('data/20report_fenci.txt')\n",
    "# 训练模型\n",
    "model = word2vec.Word2Vec(sentences,min_count=5)\n",
    "# 模型里面有一个min_count属性值，默认值是5，会忽略频次少于5的词，发生这个错是因为词表里所有词的频率都少于5，把这个值改小一点就可以了\n",
    "#\n",
    "# 选出最相似的10个词\n",
    "for e in model.wv.most_similar(positive=['人民'], topn=10):\n",
    "    print(e[0], e[1])\n",
    "# 保存模型\n",
    "model.save('data/ershida.model')\n",
    "# 加载模型\n",
    "model = word2vec.Word2Vec.load('data/ershida.model')"
   ]
  },
  {
   "cell_type": "code",
   "execution_count": 3,
   "id": "30dcaf59",
   "metadata": {
    "ExecuteTime": {
     "end_time": "2022-12-10T03:38:42.984158Z",
     "start_time": "2022-12-10T03:38:42.969166Z"
    }
   },
   "outputs": [
    {
     "name": "stdout",
     "output_type": "stream",
     "text": [
      "计算两个词的相似度:0.8935384154319763\n"
     ]
    }
   ],
   "source": [
    "# 计算两个词的相似度\n",
    "\n",
    "print(\"计算两个词的相似度:{}\".format(model.wv.similarity('奋斗', '社会主义')))"
   ]
  },
  {
   "cell_type": "code",
   "execution_count": 4,
   "id": "73745435",
   "metadata": {
    "ExecuteTime": {
     "end_time": "2022-12-10T03:38:43.000115Z",
     "start_time": "2022-12-10T03:38:42.985124Z"
    }
   },
   "outputs": [
    {
     "name": "stdout",
     "output_type": "stream",
     "text": [
      "计算两个集合的相似度:0.982224702835083\n"
     ]
    }
   ],
   "source": [
    "# 计算两个集合的相似度\n",
    "list1 = ['奋斗', \"社会主义\"]\n",
    "list2 = ['奋斗', \"人民\"]\n",
    "print(\"计算两个集合的相似度:{}\".format(model.wv.n_similarity(list1, list2)))"
   ]
  },
  {
   "cell_type": "code",
   "execution_count": 5,
   "id": "63823d55",
   "metadata": {
    "ExecuteTime": {
     "end_time": "2022-12-10T03:38:43.016041Z",
     "start_time": "2022-12-10T03:38:43.003087Z"
    }
   },
   "outputs": [
    {
     "name": "stdout",
     "output_type": "stream",
     "text": [
      "选出集合不同类的词语:奋斗\n"
     ]
    }
   ],
   "source": [
    "# 选出集合不同类的词语\n",
    "list3 = ['奋斗', \"社会主义\", '人民', \"伟大\"]\n",
    "print(\"选出集合不同类的词语:{}\".format(model.wv.doesnt_match(list3)))"
   ]
  },
  {
   "cell_type": "code",
   "execution_count": 6,
   "id": "8a9eff88",
   "metadata": {
    "ExecuteTime": {
     "end_time": "2022-12-10T03:38:43.032023Z",
     "start_time": "2022-12-10T03:38:43.018036Z"
    }
   },
   "outputs": [
    {
     "name": "stdout",
     "output_type": "stream",
     "text": [
      "<class 'numpy.ndarray'>\n",
      "100\n",
      "[-0.00600212  0.00360648 -0.00208823 -0.00625219  0.00590871 -0.01463246\n",
      " -0.00225059  0.03727823 -0.00702878 -0.00669927 -0.00724097 -0.02481219\n",
      " -0.00375137  0.01257884  0.00575714 -0.00995446 -0.00141846 -0.02701546\n",
      " -0.01353288 -0.03703799 -0.00292071 -0.00373301 -0.00054872 -0.00601695\n",
      "  0.00225212  0.00035813 -0.00617503 -0.01954522 -0.01278667  0.00166149\n",
      "  0.01382458  0.00477606  0.00995564 -0.01430982 -0.01665816  0.01553748\n",
      "  0.00905815 -0.01481368  0.00136287 -0.02600189  0.00077627 -0.02642352\n",
      " -0.0077672  -0.00111311  0.01212511 -0.00372408 -0.00485475  0.00022692\n",
      "  0.01196304  0.01764252  0.00454724 -0.01309528 -0.00121586 -0.00494303\n",
      "  0.00122133  0.01812705 -0.00212191 -0.00283446 -0.00966192  0.0083139\n",
      "  0.00894012 -0.00459906 -0.00245952  0.00232317 -0.00904539  0.0195395\n",
      "  0.00873267  0.01203832 -0.01369364  0.01419722 -0.01756507  0.01558218\n",
      "  0.00443179 -0.01168961  0.01586351  0.0122526   0.00869317  0.00140189\n",
      " -0.01206815  0.01036377  0.00607842  0.00188083 -0.01722782  0.0209696\n",
      " -0.0074531   0.00505154  0.00747046  0.02452577  0.01452645 -0.00338757\n",
      "  0.01699921  0.01959348 -0.00096752 -0.00230218  0.02606761  0.00836235\n",
      "  0.0150015  -0.01256718 -0.00012914 -0.01594852]\n"
     ]
    }
   ],
   "source": [
    "# 查看词的词向量\n",
    "# model后面加上，model.wv即可\n",
    "print(type(model.wv['奋斗']))\n",
    "print(len(model.wv['奋斗']))\n",
    "print((model.wv['奋斗']))"
   ]
  },
  {
   "cell_type": "code",
   "execution_count": 7,
   "id": "64689f66",
   "metadata": {
    "ExecuteTime": {
     "end_time": "2022-12-10T03:38:50.849151Z",
     "start_time": "2022-12-10T03:38:43.034208Z"
    }
   },
   "outputs": [
    {
     "name": "stderr",
     "output_type": "stream",
     "text": [
      "C:\\Users\\12973\\AppData\\Local\\Temp\\ipykernel_11340\\1493589074.py:3: DeprecationWarning: Starting with ImageIO v3 the behavior of this function will switch to that of iio.v3.imread. To keep the current behavior (and make this warning disappear) use `import imageio.v2 as imageio` or call `imageio.v2.imread` directly.\n",
      "  mask=imread('data/1.jpg')\n",
      "D:\\Anaconda3\\envs\\visualization\\lib\\site-packages\\PIL\\TiffImagePlugin.py:850: UserWarning: Corrupt EXIF data.  Expecting to read 4 bytes but only got 0. \n",
      "  warnings.warn(str(msg))\n"
     ]
    },
    {
     "data": {
      "text/plain": [
       "<wordcloud.wordcloud.WordCloud at 0x175af3ebf40>"
      ]
     },
     "execution_count": 7,
     "metadata": {},
     "output_type": "execute_result"
    }
   ],
   "source": [
    "import wordcloud\n",
    "from imageio import imread\n",
    "mask=imread('data/1.jpg')\n",
    "\n",
    "f=open('data/20report_fenci.txt','r',encoding='utf-8')\n",
    "txt=f.read()\n",
    "\n",
    "w=wordcloud.WordCloud(width=1000,height=700,background_color='white',mask=mask,font_path='E:\\\\字体\\\\办公常用字体\\\\仿宋_GB2312.ttf')\n",
    "w.generate(txt)\n",
    "w.to_file('wordclond.png')"
   ]
  },
  {
   "cell_type": "code",
   "execution_count": 8,
   "id": "4f18c23b",
   "metadata": {
    "ExecuteTime": {
     "end_time": "2022-12-10T03:38:51.035354Z",
     "start_time": "2022-12-10T03:38:50.852142Z"
    }
   },
   "outputs": [],
   "source": [
    "from sklearn.feature_extraction.text import CountVectorizer\n",
    "from sklearn.feature_extraction.text import TfidfTransformer"
   ]
  },
  {
   "cell_type": "code",
   "execution_count": 9,
   "id": "41124229",
   "metadata": {
    "ExecuteTime": {
     "end_time": "2022-12-10T03:38:51.066694Z",
     "start_time": "2022-12-10T03:38:51.036773Z"
    }
   },
   "outputs": [
    {
     "name": "stdout",
     "output_type": "stream",
     "text": [
      "一个 一体 一体化 一刻 一千元 一国两制 一场 一定 一带 一批 一新 一是 一次 一流 一百一十 一百周年 一百四十多个 一百年 一系列 一路 一道 一项 七十 七点 三万九千 三个代表 三五年 三件 三是 上同 上规模 不信邪 不可逆转 不合理 不少 不忘 不怠 不想 不懈努力 不敢 不断 不断丰富 不能 不负 不足 专业化 专项斗争 世界 世界观 世纪 两岸 两岸关系 两步走 严峻 严格 严格执法 严重 个人信息 中共中央 中医药 中华 中华人民共和国 中华儿女 中华文化 中华文明 中华民族 中叶 中国 中国共产党 中国化 中国史 中国式 中央 中央委员会 中心 中来 中等 丰富 为主 为先 为国 为本 为民造福 主义 主体 主动 主动性 主动权 主导权 主流 主要 主要矛盾 主题 举世瞩目 举国体制 举措 义利观 义无反顾 之义 之变 之花 之路 之间 乘风破浪 九千 乡村 事业 事件 事关 事务 事情 二个 二十一 二是 互利 五位一体 五十四万 五年 五湖四海 五项原则 亟待解决 交流 交通 产业 产业链 产品 产生 享有 亲诚 人与自然 人人 人人有责 人口 人口老龄化 人员 人均 人居 人才 人才培养 人权 人来 人民 人民代表大会 人民军队 人民团体 人民意志 人民战争 人民政协 人民满意 人类 人类文明 亿万人民 亿亩 亿元 今后 从严治党 从现在起 代表 以下 以严 以党 以德 以新 价值 价值观 任人唯贤 任务 任重道远 休养生息 休耕 优先 优先发展 优势 优势互补 优化 优秀 优秀人才 优秀作品 伙伴 伙伴关系 伟业 伟力 伟大 伟大事业 伟大工程 伟大成就 伟大旗帜 传承 传播 传染性 传统 传统美德 位置 低收入者 低碳 住房 体制 体系 体育 何去何从 作出 作善成 作战 作用 使命 使命感 使尊 使用 供应链 供给 依托 依法 依法治国 依法行政 依规 依靠 依靠人民 侨务工作 侨胞 侵害 促进 保卫战 保护 保护主义 保持 保留 保证 保障 信仰 信仰者 信心百倍 信念 信息 修复 倍加 倡导 倡议 做到 做好 健全 健康 充分 充分体现 充分发挥 充分肯定 充实 先立 先进 先进性 先锋 光明 党中央 党史 党员 党员队伍 党和人民 党和国家 党执政 党永葆 党用 党的基本 党的建设 党的领导 党组织 兜底 全人类 全党 全党全军 全党全国 全党同志 全力 全国 全国代表大会 全域 全局 全局性 全心全意 全新 全方位 全民 全球 全球化 全球性 全过程 全面 全面提高 全面落实 八万 八百元 八项 公信力 公共 公共卫生 公共安全 公共服务 公平 公平正义 公德 公有制 公正 公正司法 公民 公民道德 六中全会 六百 共产主义 共产党 共产党员 共享 共同 共同体 共同利益 共同奋斗 共同富裕 共同理想 共命运 共圆 共建 共治 共生 共青团 关心 关爱 关系 关键 关键时刻 关键时期 兴党 兴国 兴衰 兴邦 具体 具有 养成 内在 内容 内政 内生 内部 军事 军事力量 军事战略 军事训练 军委主席 军政 军民团结 军队 农业 农村 冲锋号 决不 决不能 决定 决定性 决心 决策 决议 冷战 净化 净土 准备 准确 减污 减灾 减贫 凝心 凝聚力 出新 出现 分子 分裂 分配 分配制度 创举 创作 创新 创新型 创新性 创新能力 创立 创造 创造性 创造精神 初心 利剑 利器 利民 利用 利益 别国 制定 制度 制度化 制造 制造业 刹住 前列 前所未有 前提 前景 前瞻性 前行 前进 前途 力度 力量 办好 办成 办法 功能 功能区 加以解决 加大 加强 加快 加油 务必 动力 动员 动态 动摇 动能 动荡 努力 努力争取 劳动 劳有所得 势力 勇于 勇毅 勇气 勤俭节约 勤劳致富 勤奋 化解 区域 医疗卫生 十一 十三 十三个 十个 十九 十二 十五 十八 十八点五 十分 十四 十四个 十字路口 十年 千年 千百 千秋伟业 华章 协同 协商 协调 单边主义 卫星 危害 历史 历史唯物主义 历史性 历史进程 历程 压倒性 厌战 原则 原创性 参与 及性 友好合作 双循环 双重标准 反分裂 反对 反腐 反腐败 发展 发展中国家 发展史 发展壮大 发展观 发扬 发挥 发挥作用 发生 取决于 取得 变化 变味 变色 变质 变革 变革性 召开 可信 可敬 可爱 可能 可靠性 台湾 台湾同胞 台独 史册 史无前例 号召 司法 司法制度 吃苦 各国 各方 各族人民 各界 各级 各项 各项事业 合作 合力 合法权益 合理 同呼吸 同心 同心同德 同志 同胞 后备力量 向前 向往 听党 吸引外资 告诉 周围 周年 周期率 呼吁 呼唤 命运 和平 和平共处 和平统一 和谐 和量 咬定青山不放松 善于 四万 四个 四风 回归 回答 团组织 团结 团结合作 团结奋斗 困难 围绕 国内 国土 国家 国家主权 国情 国民 国防 国防科技 国际 国际局势 国际形势 国际竞争 土壤 土壤污染 地位 地区 均衡性 坚决 坚守 坚定 坚定不移 坚定信心 坚定信念 坚实 坚实基础 坚强 坚强有力 坚持 坚持不懈 埋头苦干 城乡 城市 城镇化 培养 培育 基层 基本 基本准则 基本原理 基本国策 基本法 基础 基础性 基础设施 基调 堡垒 堪当 塑造 境界 增加 增强 增进 增长 壮大 声音 处置 备战 复兴 复杂 外交 外交政策 外来 外汇储备 外部 多万名 多元 多党合作 多劳多得 多层 多层次 多年 多样性 多渠道 多种 多管齐下 多边 大事 大任 大众 大会 大刀阔斧 大力 大变局 大团结 大国 大局 大德 大自然 天下 天气 夯实 奉献精神 奉行 奋勇前进 奋发有为 奋斗 奋斗目标 奋进 契合 奠定 如期 妇女儿童 妇联 始终 始终保持 姑息 委员 威慑力量 媒体 存在 学习 守住 守正 守法 安全 安全感 安全观 安定团结 安康 安排 完全 完善 完成 完整 宗教 宗旨 官僚主义 定力 定型 实体 实力 实干 实战 实施 实现 实行 实践 实践者 实际 审时度势 宣传教育 宪法 家庭 家教 家风 容忍 富强 对外 对外开放 寻常 导向 导航 尊严 尊重 尊重人才 尊重知识 小康 小康社会 就业 尽力而为 尽责 局势 局面 居安思危 展开 展现 展示 属于 履行 山水 崇尚 崇高 巍巍 巡视 工业 工业化 工人阶级 工会 工作 工作力度 工农联盟 工程 巨大 巨大成就 巨轮 巩固 已经 市场 市场经济 布局 带动 带领 帮扶 常态 干净 干涉 干部 干部队伍 平凡 平台 平安 平等 平衡 并存 幸福 幸福感 广大 广大青年 广泛 广泛传播 广阔 庄严 应对 应急 应有 底气 底线 建党 建军 建强 建成 建立 建设 建设工程 建设者 开创 开局 开展 开放 开放型 开辟 引导 引路人 引领 弘扬 强军 强化 强国 强大 强权政治 强盛 归根到底 当代 当前 当家作主 形势 形式 形式主义 形态 形成 形象 彪炳 影响 影响力 彻底 征程 得出 得到 得罪 循环 德才兼备 德智体美 心灵 心连心 必由之路 必胜信念 必要措施 必须 志气 忠实 忠诚 忧患意识 怀抱 态势 态度 思想 思维 思考 急剧 急难 急难险重 总产量 总体 总体布局 总体战 总揽全局 总额 情绪 惊涛骇浪 惠及 惠民 惩恶 意义 意志品质 意识 意识形态 感受 感召力 感谢 愿同 愿望 成为 成就 成效 成果 成熟 成立 我国 战斗 战斗力 战略 战略性 战略战术 战略方针 战略规划 战略部署 战胜 手中 才干 扎实 打开 打江山 打虎 打赢 打造 打铁 执政 执政为民 执政党 扩大 扩大内需 扩张 扩绿 扫黑 扶上 批评 找到 承诺 技术 抉择 把握 投资 抗击 报告 担当 拍蝇 拓展 拔尖 拥护 拥有 拼出来 持久战 持之以恒 持续 持续性 指导 指导思想 指挥 按劳分配 挑战 挑衅 振兴 捍卫 捍卫者 掌握 探月 探测 探火 探索 接受 接班人 接续 接踵而至 推出 推动 推向 推行 推进 推进改革 措施 提供 提出 提升 提高 携手 支持 支撑 收入 改善 改进 改革 改革开放 攻克 攻坚 攻坚克难 攻坚战 放在 放弃 政党 政府 政府职能 政权 政治 政治协商 政治局面 政治立场 政治责任 政策 故事 效应 效能 救治 救灾 教育 教育方针 敢于 敢于斗争 数字 整体 整体性 整治 整训 文化 文化交流 文化产业 文明 文明执法 斗争 新人 新兴 新兴产业 新冠 新型 新域 新天地 新形态 新思路 新机遇 新理念 新篇章 新质 方向 方式 方案 方法 方法论 方略 方针 方面 施展 旗帜 旗帜鲜明 无上光荣 无党派人士 无比 既有 日益 日益增长 时代 时代化 时刻 旺盛 昂扬 明显提高 明确 是非曲直 显著 智慧 更为 更加 更多更好 更大 更好 最佳 最大 有利于 有力 有常 有序 有所 有效 有机 朋友 服务 服务体系 期待 未有 未来 未除 未雨绸缪 本世纪 本质 本质属性 本领 机会 机制 权力 权威 权益 条件 松劲 极少数 构建 林田湖 果敢 枪杆子 标准 标志性 树牢 树立 核心 核心作用 核心技术 核电 根基 根本 根本任务 根本利益 根本宗旨 根本性 格局 案件 桥梁 梦想 森林 概括 模范作用 欢迎 歇脚 正义 正以 正确 正确方向 正风肃纪 步骤 武力 武器装备 武装 歧视 歪风 残疾人 毒瘤 比较 比重 毛泽东思想 毫不动摇 民主 民主专政 民主党派 民主决策 民主化 民主协商 民主监督 民主选举 民心 民族 民生 气候变化 水体 水平 永远 汇合点 江山 污染 没有 没有止境 河流 治乱 治党 治军 治国 治权 治港 治港治澳 治澳 治理 法人 法学 法律 法治 法治化 活力 活动 海内外 海外 消费 消除 涉外 深入 深入基层 深入开展 深入群众 深刻 深化 深化改革 深受 深地 深层次 深海 深远 深远影响 清洁 清醒 清零 渠道 港人治港 湖泊 湿地 源头 滚滚向前 满足 澳人治澳 澳门 澳门特别行政区 激励 激发 火热 热心人 焕发 煤炭 爱国主义 爱国人士 爱国统一战线 爱国者 牢固 牢牢 牢记 物种 物质 物质文明 特别 特征 特权 特权思想 特点 特色 独有 独立自主 猎狐 环境 环境保护 环境污染 现代 现代化 现在 现实 现实意义 现象 珍惜 理念 理想 理想信念 理政 理论 理论指导 生产力 生产总值 生产方式 生产率 生动活泼 生命 生命力 生命安全 生态 生态系统 生机 生活 生活品质 生物 生物医药 生育 生逢其 用人 用党 用力 用法 由乱 由治及 男女平等 畅通 界别 疫情 疲劳 疾步 疾病 病有所医 痼疾 百分之 百分点 百家争鸣 百年 百花齐放 监测 监督 目标 直接 相互促进 相亲 相知 相结合 相适应 看到 真实 真正 真诚 着力 着力点 矛盾 矢志不渝 知心人 知难而进 破解 破除 确保 确定 确立 碧水 碳达峰 社会 社会主义 社会保险 社会保障 祖国 祖国统一 祛疴 禀赋 禁渔 福祉 私德 秉持 科学 科技 科技攻关 科教兴国 秩序 积极 积极主动 积极参与 积极性 积累 称霸 程序化 程度 稳中求进 稳妥 稳定 稳定性 稳居 稳步 空谈 空间体系 突出 突发 突如其来 突破 突破性 立体 立党 立党为公 立国 立场 立德 立志 立法 立足 站稳 竞争力 竞技 笃行 第一 第一个 第三个 第二个 第二位 第二十次 第十九届 筑牢 答案 管理 管理体系 管用 粮食 粮食安全 精神 精神力量 精神文明 系统 系统性 素养 素质教育 紧密团结 紧紧围绕 紧紧抓住 繁荣 纠治 红线 纯洁性 纽带 练兵 组织 经历 经受 经济 经济体制 经济布局 经济总量 经济社会 经贸关系 结合 结构 结构性 结构调整 绚丽 绝对 绝非 统一 统一大业 统战工作 统揽 统筹 统领 继续 继续前进 维护 综合 绽放 绿水青山 绿色 编成 网络 美丽 美好 美好生活 群众 群众体育 群众观点 群众路线 群体 老有所养 考验 而用 耕地 职工 职责 联动 联合 联系 育人 育才 育新 肺炎 胜利 胸怀 能力 能够 能源 能用 脚踏实地 脱贫 腐败 腐败问题 自主 自信 自强 自我 自我完善 自治 自然 自然灾害 自然界 自由 自立 自立自强 自觉 自觉遵守 至上 至关紧要 致力 致力于 致远 舆论 舞台 航天 良好 良好条件 艰巨 艰苦奋斗 节约 英才 范围 草原 草沙 获得 营造 落实 蓝天 蓬勃生机 蔚然成风 融入 融合 血肉 行为 行使 行列 行动 行径 行政区 行政效率 行稳 表示 表达 衷心 袖子 要事 要务 要求 要素 覆盖 覆盖面 观念 观点 规划 规则 规制 规定 规律 规律性 规模 规范 规范化 视野 解决 解决问题 计划 认识 讲好 诉求 诚意 误国 谋划 谦虚谨慎 谱写 谱系 谷物 负责制 贡献 财富 责任 责任制 货物贸易 质量 贫困 购并 贯彻 贯穿 贸易 资源 资源配置 赖以生存 赛道 赞誉 赢得 走向 走向世界 走过 赶考 起来 起步 超级计算机 跃升 跟党走 路上 路线 跳出 践行 踔厉奋发 身体健康 车轮 轨道 转化 转变 转型 转折 转折性 轮作 载人 辉煌 辩证唯物主义 过去 迈上 迈向 迎来 迎难而上 运用 这一 这是 进入 进军 进展 进程 进行 远大理想 退役军人 选人 选优 选拔 选择 选项 通道 造就 造福 遏制 道德水准 道路 邓小平理论 部署 配套改革 配强 采取 里程碑 重任 重塑 重大 重大成就 重大成果 重大斗争 重大贡献 重构 重点 重要 量力而行 量子 金山 钉钉子 银山 铸就 铸牢 铸魂 锐意进取 锲而不舍 锻造 长期 长期实践 长江 长治久安 长远 问责 问题 防护 防控 防治 防灾 防线 防范 阶段 阶段性 阻击战 降碳 限制 限度 除恶 隆重庆祝 隐患 难题 集中 集中体现 集中力量 集中统一 集体主义 集约 集聚 需求 需要 霸凌 霸权主义 青年 青春 非传统 非公有制 面临 面向 面向世界 面向未来 面对 面貌一新 革命 革命性 革新 韧性 项目 顺应 顽强 预期 预警 预防为主 领土完整 领域 领导 领导权 领导核心 领导班子 风险 风雨无阻 风高浪 飞机制造 飞跃 饭碗 首位 首创精神 首要任务 香港 香港特别行政区 马克思主义 马克思列宁主义 驱动 骨气 高举 高地 高度 高度一致 高效 高水平 高素质 高质量 鲜明 黑臭 鼓励 \n",
      "[[0 0 0 ... 0 0 0]\n",
      " [0 0 0 ... 0 0 0]\n",
      " [0 0 0 ... 0 0 0]\n",
      " ...\n",
      " [0 0 0 ... 0 0 0]\n",
      " [0 0 0 ... 0 0 0]\n",
      " [0 0 0 ... 0 0 0]]\n"
     ]
    },
    {
     "name": "stderr",
     "output_type": "stream",
     "text": [
      "D:\\Anaconda3\\envs\\visualization\\lib\\site-packages\\sklearn\\utils\\deprecation.py:87: FutureWarning: Function get_feature_names is deprecated; get_feature_names is deprecated in 1.0 and will be removed in 1.2. Please use get_feature_names_out instead.\n",
      "  warnings.warn(msg, category=FutureWarning)\n"
     ]
    }
   ],
   "source": [
    "#第一步 生成词频矩阵\n",
    "corpus = []\n",
    "for line in open('./data/20report_fenci.txt', 'r', encoding=\"utf-8\").readlines():\n",
    "    corpus.append(line.strip())\n",
    "vectorizer = CountVectorizer()\n",
    "X = vectorizer.fit_transform(corpus)\n",
    "word = vectorizer.get_feature_names()\n",
    "for n in range(len(word)):\n",
    "    print(word[n],end=\" \")\n",
    "print('')\n",
    "print(X.toarray())"
   ]
  },
  {
   "cell_type": "code",
   "execution_count": 10,
   "id": "ed2723df",
   "metadata": {
    "ExecuteTime": {
     "end_time": "2022-12-10T03:38:51.082651Z",
     "start_time": "2022-12-10T03:38:51.068689Z"
    }
   },
   "outputs": [
    {
     "name": "stdout",
     "output_type": "stream",
     "text": [
      "TfidfTransformer()\n",
      "[[0. 0. 0. ... 0. 0. 0.]\n",
      " [0. 0. 0. ... 0. 0. 0.]\n",
      " [0. 0. 0. ... 0. 0. 0.]\n",
      " ...\n",
      " [0. 0. 0. ... 0. 0. 0.]\n",
      " [0. 0. 0. ... 0. 0. 0.]\n",
      " [0. 0. 0. ... 0. 0. 0.]]\n"
     ]
    }
   ],
   "source": [
    "#第二步 计算TF-IDF值\n",
    "transformer = TfidfTransformer()\n",
    "print(transformer)\n",
    "tfidf = transformer.fit_transform(X)\n",
    "print(tfidf.toarray())\n",
    "weight = tfidf.toarray()"
   ]
  },
  {
   "cell_type": "code",
   "execution_count": 11,
   "id": "28a2201b",
   "metadata": {
    "ExecuteTime": {
     "end_time": "2022-12-10T03:38:51.411770Z",
     "start_time": "2022-12-10T03:38:51.084646Z"
    }
   },
   "outputs": [
    {
     "name": "stdout",
     "output_type": "stream",
     "text": [
      "KMeans(n_clusters=3)\n",
      "[[-3.25260652e-19  6.50521303e-19  0.00000000e+00 ...  1.08420217e-19\n",
      "  -2.16840434e-19  8.67361738e-19]\n",
      " [-5.42101086e-19  6.50521303e-19  2.60208521e-18 ...  2.16840434e-19\n",
      "  -4.33680869e-19 -8.67361738e-19]\n",
      " [ 1.55882781e-03  3.10214849e-03  7.44983011e-03 ...  1.03346083e-03\n",
      "   1.33236640e-03  4.45637816e-03]]\n",
      "88.10032165580981\n",
      "[1 1 1 1 0 1 2 1 2 1 0 2 2 2 1 2 0 0 2 2 2 2 2 2 0 2 2 2 2 1 2 1 0 1 2 1 0\n",
      " 0 0 0 0 1 0 1 2 2 2 2 1 2 2 2 2 1 2 2 2 2 1 2 2 2 2 1 2 2 2 2 1 0 0 0 2 1\n",
      " 2 2 2 2 1 2 2 2 2 1 1 1 2 2 1 1 2 2 2 1 1 1 1 1 1 2 2 2 1 2 2 2 1 1 1 2 2\n",
      " 2 2 0 1 1]\n"
     ]
    }
   ],
   "source": [
    "#第三步 KMeans聚类\n",
    "from sklearn.cluster import KMeans\n",
    "clf = KMeans(n_clusters=3)\n",
    "s = clf.fit(weight)\n",
    "y_pred = clf.fit_predict(weight)\n",
    "print(clf)\n",
    "print(clf.cluster_centers_) #类簇中心\n",
    "print(clf.inertia_)         #距离:用来评估簇的个数是否合适 越小说明簇分的越好\n",
    "print(y_pred)               #预测类标"
   ]
  },
  {
   "cell_type": "code",
   "execution_count": 12,
   "id": "924f7a54",
   "metadata": {
    "ExecuteTime": {
     "end_time": "2022-12-10T03:38:51.457648Z",
     "start_time": "2022-12-10T03:38:51.413765Z"
    }
   },
   "outputs": [
    {
     "name": "stdout",
     "output_type": "stream",
     "text": [
      "[[-0.0918896  -0.15165287]\n",
      " [-0.06867422 -0.06443989]\n",
      " [-0.10329031 -0.12687072]\n",
      " [-0.06867422 -0.06443989]\n",
      " [-0.02335697 -0.18227681]\n",
      " [-0.06867422 -0.06443989]\n",
      " [ 0.16361871 -0.19009725]\n",
      " [-0.06867422 -0.06443989]\n",
      " [ 0.01330411 -0.18398582]\n",
      " [-0.06867422 -0.06443989]\n",
      " [-0.07537612 -0.20873188]\n",
      " [ 0.02677454 -0.17011155]\n",
      " [ 0.04404934  0.16130754]\n",
      " [ 0.05338191 -0.19346457]\n",
      " [-0.00353328 -0.13115422]\n",
      " [ 0.01741634 -0.11988434]\n",
      " [ 0.14528104 -0.16798613]\n",
      " [-0.05634605 -0.07778079]\n",
      " [-0.06463553 -0.14069343]\n",
      " [ 0.0104015   0.02244153]\n",
      " [-0.0621575   0.07176691]\n",
      " [-0.04009993  0.00759544]\n",
      " [-0.10841342  0.02764496]\n",
      " [ 0.46666073  0.21415893]\n",
      " [ 0.05015377 -0.09695142]\n",
      " [ 0.00886722  0.05781516]\n",
      " [-0.09620973  0.00233928]\n",
      " [-0.2527506   0.22948082]\n",
      " [-0.12972754 -0.09748116]\n",
      " [-0.0967528  -0.03266869]\n",
      " [-0.08063256  0.14358634]\n",
      " [-0.07519875 -0.12361521]\n",
      " [-0.0877335  -0.12894883]\n",
      " [-0.05384348 -0.15706378]\n",
      " [ 0.22594381 -0.11362321]\n",
      " [-0.06867422 -0.06443989]\n",
      " [-0.06281828 -0.19229845]\n",
      " [ 0.01370366 -0.22732294]\n",
      " [ 0.03917721 -0.07072807]\n",
      " [ 0.00954476 -0.19426322]\n",
      " [ 0.24129185 -0.08468495]\n",
      " [-0.06867422 -0.06443989]\n",
      " [-0.06766592 -0.25511221]\n",
      " [ 0.09681114 -0.24801102]\n",
      " [ 0.15527169 -0.03484017]\n",
      " [ 0.45858047  0.25329042]\n",
      " [ 0.12146896 -0.06371403]\n",
      " [ 0.13224574  0.0441664 ]\n",
      " [-0.06867422 -0.06443989]\n",
      " [ 0.03765141  0.24595574]\n",
      " [ 0.10474648  0.12027335]\n",
      " [-0.10529196  0.20002558]\n",
      " [-0.0146364   0.17779219]\n",
      " [-0.06867422 -0.06443989]\n",
      " [-0.13299399 -0.03016721]\n",
      " [-0.07843513  0.0512671 ]\n",
      " [-0.10876044 -0.00354607]\n",
      " [-0.10797777  0.14062303]\n",
      " [-0.06867422 -0.06443989]\n",
      " [ 0.48630745  0.32482872]\n",
      " [ 0.52751674  0.26636922]\n",
      " [ 0.27599989  0.20885314]\n",
      " [ 0.21573429  0.24983801]\n",
      " [-0.06867422 -0.06443989]\n",
      " [ 0.11551168  0.02311476]\n",
      " [ 0.04424602  0.0572492 ]\n",
      " [ 0.07070481  0.09797279]\n",
      " [ 0.07235241  0.06956773]\n",
      " [-0.06867422 -0.06443989]\n",
      " [ 0.08180528 -0.15970398]\n",
      " [ 0.2165541  -0.09418745]\n",
      " [ 0.24153967 -0.02110054]\n",
      " [ 0.12220494  0.03484336]\n",
      " [-0.06867422 -0.06443989]\n",
      " [ 0.05403944  0.00756305]\n",
      " [ 0.27150129  0.09136508]\n",
      " [ 0.10375389  0.11217804]\n",
      " [-0.09615124  0.18902539]\n",
      " [-0.06867422 -0.06443989]\n",
      " [ 0.04697992  0.11140858]\n",
      " [ 0.03228504  0.01456665]\n",
      " [-0.10297888  0.02236973]\n",
      " [-0.11799332  0.07273613]\n",
      " [-0.06867422 -0.06443989]\n",
      " [-0.42249515  0.40637829]\n",
      " [-0.34456879  0.34775453]\n",
      " [-0.3740821   0.45878272]\n",
      " [-0.39047286  0.49070305]\n",
      " [-0.06867422 -0.06443989]\n",
      " [-0.08527917 -0.12653767]\n",
      " [-0.11640873 -0.02700623]\n",
      " [-0.12331104 -0.02468732]\n",
      " [-0.16386913  0.13080901]\n",
      " [-0.06867422 -0.06443989]\n",
      " [-0.07037023 -0.0249664 ]\n",
      " [ 0.0065418  -0.10056436]\n",
      " [-0.03121846 -0.01321413]\n",
      " [-0.0486227  -0.04803034]\n",
      " [-0.06867422 -0.06443989]\n",
      " [ 0.0445328   0.19440866]\n",
      " [-0.03311984 -0.05213585]\n",
      " [ 0.051761    0.21719064]\n",
      " [-0.12901309  0.02005977]\n",
      " [-0.05850831  0.09947704]\n",
      " [ 0.05267394  0.21014508]\n",
      " [ 0.10133841  0.20988302]\n",
      " [-0.06867422 -0.06443989]\n",
      " [-0.07910926 -0.15708842]\n",
      " [ 0.02123642 -0.12462597]\n",
      " [-0.01038762 -0.13350332]\n",
      " [ 0.01006242  0.00326501]\n",
      " [ 0.23513317 -0.08492767]\n",
      " [ 0.26296871  0.08107034]\n",
      " [-0.08045059 -0.1082848 ]\n",
      " [ 0.03079064 -0.2062141 ]\n",
      " [-0.06867422 -0.06443989]]\n"
     ]
    }
   ],
   "source": [
    "#第四步 降维处理\n",
    "from sklearn.decomposition import PCA\n",
    "pca = PCA(n_components=2)   #降低成两维绘图\n",
    "newData = pca.fit_transform(weight)\n",
    "print(newData)\n",
    "x = [n[0] for n in newData]\n",
    "y = [n[1] for n in newData]"
   ]
  },
  {
   "cell_type": "code",
   "execution_count": 13,
   "id": "4f175314",
   "metadata": {
    "ExecuteTime": {
     "end_time": "2022-12-10T03:38:51.661612Z",
     "start_time": "2022-12-10T03:38:51.464629Z"
    }
   },
   "outputs": [
    {
     "data": {
      "image/png": "[encoded data removed]",
      "text/plain": [
       "<Figure size 640x480 with 1 Axes>"
      ]
     },
     "metadata": {},
     "output_type": "display_data"
    }
   ],
   "source": [
    "#第五步 可视化\n",
    "import numpy as np\n",
    "import matplotlib.pyplot as plt\n",
    "plt.scatter(x, y, c=y_pred, s=100, marker='s')\n",
    "plt.title(\"Kmeans\")\n",
    "plt.xlabel(\"x\")\n",
    "plt.ylabel(\"y\")\n",
    "plt.show()"
   ]
  }
 ],
 "metadata": {
  "kernelspec": {
   "display_name": "Python 3 (ipykernel)",
   "language": "python",
   "name": "python3"
  },
  "language_info": {
   "codemirror_mode": {
    "name": "ipython",
    "version": 3
   },
   "file_extension": ".py",
   "mimetype": "text/x-python",
   "name": "python",
   "nbconvert_exporter": "python",
   "pygments_lexer": "ipython3",
   "version": "3.9.15"
  },
  "toc": {
   "base_numbering": 1,
   "nav_menu": {},
   "number_sections": true,
   "sideBar": true,
   "skip_h1_title": false,
   "title_cell": "Table of Contents",
   "title_sidebar": "Contents",
   "toc_cell": false,
   "toc_position": {},
   "toc_section_display": true,
   "toc_window_display": false
  }
 },
 "nbformat": 4,
 "nbformat_minor": 5
}
