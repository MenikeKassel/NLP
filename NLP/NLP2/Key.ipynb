{
 "cells": [
  {
   "cell_type": "markdown",
   "id": "b136ca26",
   "metadata": {},
   "source": [
    "# 神州上天话题提取"
   ]
  },
  {
   "cell_type": "code",
   "execution_count": 1,
   "id": "fc2050a1",
   "metadata": {
    "ExecuteTime": {
     "end_time": "2022-12-28T03:34:58.430099Z",
     "start_time": "2022-12-28T03:34:53.162060Z"
    }
   },
   "outputs": [],
   "source": [
    "import pandas as pd\n",
    "data = pd.read_csv(\"./data/nlp_spider.csv\")\n",
    "comment_data = data['评论内容']"
   ]
  },
  {
   "cell_type": "code",
   "execution_count": 2,
   "id": "69b2b8d0",
   "metadata": {
    "ExecuteTime": {
     "end_time": "2022-12-28T03:34:58.461016Z",
     "start_time": "2022-12-28T03:34:58.431097Z"
    }
   },
   "outputs": [],
   "source": [
    "import re\n",
    "links = []\n",
    "for i in comment_data:\n",
    "    link = re.findall(r'[\\u4e00-\\u9fa5]+', i)\n",
    "    for txt in link:\n",
    "        links.append(txt)\n",
    "\n",
    "sentences = \"\"\n",
    "for i in links:\n",
    "    sentences = sentences+i+\",\""
   ]
  },
  {
   "cell_type": "code",
   "execution_count": 3,
   "id": "8c8d5dc0",
   "metadata": {
    "ExecuteTime": {
     "end_time": "2022-12-28T03:35:00.360952Z",
     "start_time": "2022-12-28T03:34:58.463011Z"
    }
   },
   "outputs": [
    {
     "name": "stderr",
     "output_type": "stream",
     "text": [
      "Building prefix dict from the default dictionary ...\n",
      "Loading model from cache C:\\Users\\12973\\AppData\\Local\\Temp\\jieba.cache\n",
      "Loading model cost 0.581 seconds.\n",
      "Prefix dict has been built successfully.\n"
     ]
    },
    {
     "name": "stdout",
     "output_type": "stream",
     "text": [
      "TF-IDF result\n",
      "航天员 0.656218726935519\n",
      "载人 0.4244542708706111\n",
      "空间站 0.30817742144636273\n",
      "乘组 0.3014781329538312\n",
      "飞船 0.25101297126793404\n",
      "太空 0.23178627142056257\n",
      "视频 0.22663129370830265\n",
      "费俊龙 0.22031094331241513\n",
      "任务 0.21815757482521822\n",
      "航天 0.17700699417609117\n",
      "=========================\n",
      "TextRank result\n",
      "中国 1.0\n",
      "航天员 0.9261932577386064\n",
      "载人 0.8281288801018355\n",
      "任务 0.5220166187839972\n",
      "视频 0.5190354888719264\n",
      "空间站 0.4859975976331894\n",
      "飞船 0.465922355440992\n",
      "航天 0.43614075204201697\n",
      "太空 0.3880320912010356\n",
      "系统 0.34720024515453296\n"
     ]
    }
   ],
   "source": [
    "import jieba\n",
    "import jieba.analyse\n",
    " \n",
    "keywords=jieba.analyse.extract_tags(sentences,topK=10,withWeight=True,allowPOS=('n','nr','ns'))\n",
    "#withweight:是否同时返回每个关键词的权重;allowPOS:词性过滤，为空表示不过滤，若提供则仅返回符合词性要求的关键词  默认为allowPOS=‘ns’, ‘n’, ‘vn’, ‘v’，提取地名、名词、动名词、动词\n",
    "#nr  人名\n",
    "#参考对应词性  https://blog.csdn.net/zhuzuwei/article/details/79029904\n",
    "print('TF-IDF result')\n",
    "for item in keywords:\n",
    "    print(item[0],item[1])\n",
    "print('=========================')\n",
    "keywords_1=jieba.analyse.textrank(sentences,topK=10,withWeight=True,allowPOS=('n','nr','ns'))\n",
    "print('TextRank result')\n",
    "for item in keywords_1:\n",
    "    print(item[0], item[1])"
   ]
  },
  {
   "cell_type": "code",
   "execution_count": null,
   "id": "78681f67",
   "metadata": {},
   "outputs": [],
   "source": []
  }
 ],
 "metadata": {
  "kernelspec": {
   "display_name": "Python 3 (ipykernel)",
   "language": "python",
   "name": "python3"
  },
  "language_info": {
   "codemirror_mode": {
    "name": "ipython",
    "version": 3
   },
   "file_extension": ".py",
   "mimetype": "text/x-python",
   "name": "python",
   "nbconvert_exporter": "python",
   "pygments_lexer": "ipython3",
   "version": "3.9.15"
  },
  "toc": {
   "base_numbering": 1,
   "nav_menu": {},
   "number_sections": true,
   "sideBar": true,
   "skip_h1_title": false,
   "title_cell": "Table of Contents",
   "title_sidebar": "Contents",
   "toc_cell": false,
   "toc_position": {},
   "toc_section_display": true,
   "toc_window_display": false
  }
 },
 "nbformat": 4,
 "nbformat_minor": 5
}
