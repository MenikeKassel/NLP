{
 "cells": [
  {
   "cell_type": "markdown",
   "id": "55fcbaa8",
   "metadata": {},
   "source": [
    "# 阿根廷夺冠的舆情分析"
   ]
  },
  {
   "cell_type": "markdown",
   "id": "085b3661",
   "metadata": {},
   "source": [
    "通过本实验要求学生理解舆情分析的流程，熟悉在Python中进行舆情分析（数据获取、趋势分析、热帖分析、热门用户分析）的实现方法。"
   ]
  },
  {
   "cell_type": "code",
   "execution_count": 1,
   "id": "e2f2c57c",
   "metadata": {
    "ExecuteTime": {
     "end_time": "2022-12-30T09:06:22.406801Z",
     "start_time": "2022-12-30T09:06:17.658405Z"
    }
   },
   "outputs": [],
   "source": [
    "import pandas as pd"
   ]
  },
  {
   "cell_type": "code",
   "execution_count": 2,
   "id": "83504ec4",
   "metadata": {
    "ExecuteTime": {
     "end_time": "2022-12-30T09:06:22.529497Z",
     "start_time": "2022-12-30T09:06:22.411784Z"
    }
   },
   "outputs": [
    {
     "data": {
      "text/html": [
       "<div>\n",
       "<style scoped>\n",
       "    .dataframe tbody tr th:only-of-type {\n",
       "        vertical-align: middle;\n",
       "    }\n",
       "\n",
       "    .dataframe tbody tr th {\n",
       "        vertical-align: top;\n",
       "    }\n",
       "\n",
       "    .dataframe thead th {\n",
       "        text-align: right;\n",
       "    }\n",
       "</style>\n",
       "<table border=\"1\" class=\"dataframe\">\n",
       "  <thead>\n",
       "    <tr style=\"text-align: right;\">\n",
       "      <th></th>\n",
       "      <th>评论发表时间</th>\n",
       "      <th>评论内容</th>\n",
       "      <th>评论发表地点</th>\n",
       "      <th>点赞数</th>\n",
       "      <th>评论数</th>\n",
       "      <th>转发数</th>\n",
       "    </tr>\n",
       "  </thead>\n",
       "  <tbody>\n",
       "    <tr>\n",
       "      <th>0</th>\n",
       "      <td>Wed Dec 21 17:27:43 +0800 2022</td>\n",
       "      <td>&lt;a  href=\"https://m.weibo.cn/search?containeri...</td>\n",
       "      <td>广西</td>\n",
       "      <td>2</td>\n",
       "      <td>0</td>\n",
       "      <td>2</td>\n",
       "    </tr>\n",
       "    <tr>\n",
       "      <th>1</th>\n",
       "      <td>Wed Dec 21 11:41:03 +0800 2022</td>\n",
       "      <td>迪巴拉：&lt;br /&gt;&lt;br /&gt;“当我在决赛中出场时，我知道我是上去踢点球的。我本来打算打一...</td>\n",
       "      <td>北京</td>\n",
       "      <td>41</td>\n",
       "      <td>4</td>\n",
       "      <td>41</td>\n",
       "    </tr>\n",
       "    <tr>\n",
       "      <th>2</th>\n",
       "      <td>Tue Dec 20 21:12:33 +0800 2022</td>\n",
       "      <td>&lt;a  href=\"https://m.weibo.cn/search?containeri...</td>\n",
       "      <td>江苏</td>\n",
       "      <td>44</td>\n",
       "      <td>1</td>\n",
       "      <td>44</td>\n",
       "    </tr>\n",
       "    <tr>\n",
       "      <th>3</th>\n",
       "      <td>Wed Dec 21 09:16:03 +0800 2022</td>\n",
       "      <td>🇦🇷⭐️⭐️⭐️&lt;br /&gt;                    三星美图✌&lt;br /&gt;&lt;...</td>\n",
       "      <td>广东</td>\n",
       "      <td>205</td>\n",
       "      <td>19</td>\n",
       "      <td>205</td>\n",
       "    </tr>\n",
       "    <tr>\n",
       "      <th>4</th>\n",
       "      <td>Wed Dec 21 09:48:31 +0800 2022</td>\n",
       "      <td>&lt;a  href=\"https://m.weibo.cn/search?containeri...</td>\n",
       "      <td>河北</td>\n",
       "      <td>10</td>\n",
       "      <td>1</td>\n",
       "      <td>10</td>\n",
       "    </tr>\n",
       "    <tr>\n",
       "      <th>...</th>\n",
       "      <td>...</td>\n",
       "      <td>...</td>\n",
       "      <td>...</td>\n",
       "      <td>...</td>\n",
       "      <td>...</td>\n",
       "      <td>...</td>\n",
       "    </tr>\n",
       "    <tr>\n",
       "      <th>1018</th>\n",
       "      <td>Mon Dec 19 02:36:01 +0800 2022</td>\n",
       "      <td>啊啊啊啊啊啊啊啊啊好深情的看向奖杯🏆🏆🏆🏆🏆🏆🏆&lt;a  href=\"https://m.we...</td>\n",
       "      <td>山东</td>\n",
       "      <td>590</td>\n",
       "      <td>39</td>\n",
       "      <td>590</td>\n",
       "    </tr>\n",
       "    <tr>\n",
       "      <th>1019</th>\n",
       "      <td>Mon Dec 19 07:22:59 +0800 2022</td>\n",
       "      <td>8年前，梅西距离大力神杯，这么近却那么远…&lt;br /&gt;&lt;br /&gt;8年后，梅西笑意盈盈的，手...</td>\n",
       "      <td>山东</td>\n",
       "      <td>60</td>\n",
       "      <td>0</td>\n",
       "      <td>60</td>\n",
       "    </tr>\n",
       "    <tr>\n",
       "      <th>1020</th>\n",
       "      <td>Mon Dec 19 02:58:52 +0800 2022</td>\n",
       "      <td>&lt;a  href=\"https://m.weibo.cn/search?containeri...</td>\n",
       "      <td>湖北</td>\n",
       "      <td>352</td>\n",
       "      <td>29</td>\n",
       "      <td>352</td>\n",
       "    </tr>\n",
       "    <tr>\n",
       "      <th>1021</th>\n",
       "      <td>Mon Dec 19 08:07:00 +0800 2022</td>\n",
       "      <td>今日心情&lt;span class=\"url-icon\"&gt;&lt;img alt=[嘻嘻] src=\"...</td>\n",
       "      <td>四川</td>\n",
       "      <td>117</td>\n",
       "      <td>10</td>\n",
       "      <td>117</td>\n",
       "    </tr>\n",
       "    <tr>\n",
       "      <th>1022</th>\n",
       "      <td>Mon Dec 19 02:11:25 +0800 2022</td>\n",
       "      <td>我们是三星阿根廷🇦🇷&lt;br /&gt;我们永久保留大力神杯🏆&lt;br /&gt;&lt;br /&gt;&lt;a  hre...</td>\n",
       "      <td>广东</td>\n",
       "      <td>43</td>\n",
       "      <td>9</td>\n",
       "      <td>43</td>\n",
       "    </tr>\n",
       "  </tbody>\n",
       "</table>\n",
       "<p>1023 rows × 6 columns</p>\n",
       "</div>"
      ],
      "text/plain": [
       "                              评论发表时间  \\\n",
       "0     Wed Dec 21 17:27:43 +0800 2022   \n",
       "1     Wed Dec 21 11:41:03 +0800 2022   \n",
       "2     Tue Dec 20 21:12:33 +0800 2022   \n",
       "3     Wed Dec 21 09:16:03 +0800 2022   \n",
       "4     Wed Dec 21 09:48:31 +0800 2022   \n",
       "...                              ...   \n",
       "1018  Mon Dec 19 02:36:01 +0800 2022   \n",
       "1019  Mon Dec 19 07:22:59 +0800 2022   \n",
       "1020  Mon Dec 19 02:58:52 +0800 2022   \n",
       "1021  Mon Dec 19 08:07:00 +0800 2022   \n",
       "1022  Mon Dec 19 02:11:25 +0800 2022   \n",
       "\n",
       "                                                   评论内容 评论发表地点  点赞数  评论数  转发数  \n",
       "0     <a  href=\"https://m.weibo.cn/search?containeri...     广西    2    0    2  \n",
       "1     迪巴拉：<br /><br />“当我在决赛中出场时，我知道我是上去踢点球的。我本来打算打一...     北京   41    4   41  \n",
       "2     <a  href=\"https://m.weibo.cn/search?containeri...     江苏   44    1   44  \n",
       "3     🇦🇷⭐️⭐️⭐️<br />                    三星美图✌<br /><...     广东  205   19  205  \n",
       "4     <a  href=\"https://m.weibo.cn/search?containeri...     河北   10    1   10  \n",
       "...                                                 ...    ...  ...  ...  ...  \n",
       "1018  啊啊啊啊啊啊啊啊啊好深情的看向奖杯🏆🏆🏆🏆🏆🏆🏆<a  href=\"https://m.we...     山东  590   39  590  \n",
       "1019  8年前，梅西距离大力神杯，这么近却那么远…<br /><br />8年后，梅西笑意盈盈的，手...     山东   60    0   60  \n",
       "1020  <a  href=\"https://m.weibo.cn/search?containeri...     湖北  352   29  352  \n",
       "1021  今日心情<span class=\"url-icon\"><img alt=[嘻嘻] src=\"...     四川  117   10  117  \n",
       "1022  我们是三星阿根廷🇦🇷<br />我们永久保留大力神杯🏆<br /><br /><a  hre...     广东   43    9   43  \n",
       "\n",
       "[1023 rows x 6 columns]"
      ]
     },
     "execution_count": 2,
     "metadata": {},
     "output_type": "execute_result"
    }
   ],
   "source": [
    "data = pd.read_csv(\"./data/nlp_spider_2.csv\")\n",
    "data"
   ]
  },
  {
   "cell_type": "code",
   "execution_count": 3,
   "id": "9d0d3b39",
   "metadata": {
    "ExecuteTime": {
     "end_time": "2022-12-30T09:06:22.687081Z",
     "start_time": "2022-12-30T09:06:22.533490Z"
    }
   },
   "outputs": [
    {
     "data": {
      "text/html": [
       "<div>\n",
       "<style scoped>\n",
       "    .dataframe tbody tr th:only-of-type {\n",
       "        vertical-align: middle;\n",
       "    }\n",
       "\n",
       "    .dataframe tbody tr th {\n",
       "        vertical-align: top;\n",
       "    }\n",
       "\n",
       "    .dataframe thead th {\n",
       "        text-align: right;\n",
       "    }\n",
       "</style>\n",
       "<table border=\"1\" class=\"dataframe\">\n",
       "  <thead>\n",
       "    <tr style=\"text-align: right;\">\n",
       "      <th></th>\n",
       "      <th>评论发表时间</th>\n",
       "      <th>评论内容</th>\n",
       "      <th>评论发表地点</th>\n",
       "      <th>点赞数</th>\n",
       "      <th>评论数</th>\n",
       "      <th>转发数</th>\n",
       "      <th>timestamps</th>\n",
       "    </tr>\n",
       "  </thead>\n",
       "  <tbody>\n",
       "    <tr>\n",
       "      <th>0</th>\n",
       "      <td>Wed Dec 21 17:27:43 +0800 2022</td>\n",
       "      <td>&lt;a  href=\"https://m.weibo.cn/search?containeri...</td>\n",
       "      <td>广西</td>\n",
       "      <td>2</td>\n",
       "      <td>0</td>\n",
       "      <td>2</td>\n",
       "      <td>2022-12-21 17:27:43+08:00</td>\n",
       "    </tr>\n",
       "    <tr>\n",
       "      <th>1</th>\n",
       "      <td>Wed Dec 21 11:41:03 +0800 2022</td>\n",
       "      <td>迪巴拉：&lt;br /&gt;&lt;br /&gt;“当我在决赛中出场时，我知道我是上去踢点球的。我本来打算打一...</td>\n",
       "      <td>北京</td>\n",
       "      <td>41</td>\n",
       "      <td>4</td>\n",
       "      <td>41</td>\n",
       "      <td>2022-12-21 11:41:03+08:00</td>\n",
       "    </tr>\n",
       "    <tr>\n",
       "      <th>2</th>\n",
       "      <td>Tue Dec 20 21:12:33 +0800 2022</td>\n",
       "      <td>&lt;a  href=\"https://m.weibo.cn/search?containeri...</td>\n",
       "      <td>江苏</td>\n",
       "      <td>44</td>\n",
       "      <td>1</td>\n",
       "      <td>44</td>\n",
       "      <td>2022-12-20 21:12:33+08:00</td>\n",
       "    </tr>\n",
       "    <tr>\n",
       "      <th>3</th>\n",
       "      <td>Wed Dec 21 09:16:03 +0800 2022</td>\n",
       "      <td>🇦🇷⭐️⭐️⭐️&lt;br /&gt;                    三星美图✌&lt;br /&gt;&lt;...</td>\n",
       "      <td>广东</td>\n",
       "      <td>205</td>\n",
       "      <td>19</td>\n",
       "      <td>205</td>\n",
       "      <td>2022-12-21 09:16:03+08:00</td>\n",
       "    </tr>\n",
       "    <tr>\n",
       "      <th>4</th>\n",
       "      <td>Wed Dec 21 09:48:31 +0800 2022</td>\n",
       "      <td>&lt;a  href=\"https://m.weibo.cn/search?containeri...</td>\n",
       "      <td>河北</td>\n",
       "      <td>10</td>\n",
       "      <td>1</td>\n",
       "      <td>10</td>\n",
       "      <td>2022-12-21 09:48:31+08:00</td>\n",
       "    </tr>\n",
       "    <tr>\n",
       "      <th>...</th>\n",
       "      <td>...</td>\n",
       "      <td>...</td>\n",
       "      <td>...</td>\n",
       "      <td>...</td>\n",
       "      <td>...</td>\n",
       "      <td>...</td>\n",
       "      <td>...</td>\n",
       "    </tr>\n",
       "    <tr>\n",
       "      <th>1018</th>\n",
       "      <td>Mon Dec 19 02:36:01 +0800 2022</td>\n",
       "      <td>啊啊啊啊啊啊啊啊啊好深情的看向奖杯🏆🏆🏆🏆🏆🏆🏆&lt;a  href=\"https://m.we...</td>\n",
       "      <td>山东</td>\n",
       "      <td>590</td>\n",
       "      <td>39</td>\n",
       "      <td>590</td>\n",
       "      <td>2022-12-19 02:36:01+08:00</td>\n",
       "    </tr>\n",
       "    <tr>\n",
       "      <th>1019</th>\n",
       "      <td>Mon Dec 19 07:22:59 +0800 2022</td>\n",
       "      <td>8年前，梅西距离大力神杯，这么近却那么远…&lt;br /&gt;&lt;br /&gt;8年后，梅西笑意盈盈的，手...</td>\n",
       "      <td>山东</td>\n",
       "      <td>60</td>\n",
       "      <td>0</td>\n",
       "      <td>60</td>\n",
       "      <td>2022-12-19 07:22:59+08:00</td>\n",
       "    </tr>\n",
       "    <tr>\n",
       "      <th>1020</th>\n",
       "      <td>Mon Dec 19 02:58:52 +0800 2022</td>\n",
       "      <td>&lt;a  href=\"https://m.weibo.cn/search?containeri...</td>\n",
       "      <td>湖北</td>\n",
       "      <td>352</td>\n",
       "      <td>29</td>\n",
       "      <td>352</td>\n",
       "      <td>2022-12-19 02:58:52+08:00</td>\n",
       "    </tr>\n",
       "    <tr>\n",
       "      <th>1021</th>\n",
       "      <td>Mon Dec 19 08:07:00 +0800 2022</td>\n",
       "      <td>今日心情&lt;span class=\"url-icon\"&gt;&lt;img alt=[嘻嘻] src=\"...</td>\n",
       "      <td>四川</td>\n",
       "      <td>117</td>\n",
       "      <td>10</td>\n",
       "      <td>117</td>\n",
       "      <td>2022-12-19 08:07:00+08:00</td>\n",
       "    </tr>\n",
       "    <tr>\n",
       "      <th>1022</th>\n",
       "      <td>Mon Dec 19 02:11:25 +0800 2022</td>\n",
       "      <td>我们是三星阿根廷🇦🇷&lt;br /&gt;我们永久保留大力神杯🏆&lt;br /&gt;&lt;br /&gt;&lt;a  hre...</td>\n",
       "      <td>广东</td>\n",
       "      <td>43</td>\n",
       "      <td>9</td>\n",
       "      <td>43</td>\n",
       "      <td>2022-12-19 02:11:25+08:00</td>\n",
       "    </tr>\n",
       "  </tbody>\n",
       "</table>\n",
       "<p>1023 rows × 7 columns</p>\n",
       "</div>"
      ],
      "text/plain": [
       "                              评论发表时间  \\\n",
       "0     Wed Dec 21 17:27:43 +0800 2022   \n",
       "1     Wed Dec 21 11:41:03 +0800 2022   \n",
       "2     Tue Dec 20 21:12:33 +0800 2022   \n",
       "3     Wed Dec 21 09:16:03 +0800 2022   \n",
       "4     Wed Dec 21 09:48:31 +0800 2022   \n",
       "...                              ...   \n",
       "1018  Mon Dec 19 02:36:01 +0800 2022   \n",
       "1019  Mon Dec 19 07:22:59 +0800 2022   \n",
       "1020  Mon Dec 19 02:58:52 +0800 2022   \n",
       "1021  Mon Dec 19 08:07:00 +0800 2022   \n",
       "1022  Mon Dec 19 02:11:25 +0800 2022   \n",
       "\n",
       "                                                   评论内容 评论发表地点  点赞数  评论数  转发数  \\\n",
       "0     <a  href=\"https://m.weibo.cn/search?containeri...     广西    2    0    2   \n",
       "1     迪巴拉：<br /><br />“当我在决赛中出场时，我知道我是上去踢点球的。我本来打算打一...     北京   41    4   41   \n",
       "2     <a  href=\"https://m.weibo.cn/search?containeri...     江苏   44    1   44   \n",
       "3     🇦🇷⭐️⭐️⭐️<br />                    三星美图✌<br /><...     广东  205   19  205   \n",
       "4     <a  href=\"https://m.weibo.cn/search?containeri...     河北   10    1   10   \n",
       "...                                                 ...    ...  ...  ...  ...   \n",
       "1018  啊啊啊啊啊啊啊啊啊好深情的看向奖杯🏆🏆🏆🏆🏆🏆🏆<a  href=\"https://m.we...     山东  590   39  590   \n",
       "1019  8年前，梅西距离大力神杯，这么近却那么远…<br /><br />8年后，梅西笑意盈盈的，手...     山东   60    0   60   \n",
       "1020  <a  href=\"https://m.weibo.cn/search?containeri...     湖北  352   29  352   \n",
       "1021  今日心情<span class=\"url-icon\"><img alt=[嘻嘻] src=\"...     四川  117   10  117   \n",
       "1022  我们是三星阿根廷🇦🇷<br />我们永久保留大力神杯🏆<br /><br /><a  hre...     广东   43    9   43   \n",
       "\n",
       "                    timestamps  \n",
       "0    2022-12-21 17:27:43+08:00  \n",
       "1    2022-12-21 11:41:03+08:00  \n",
       "2    2022-12-20 21:12:33+08:00  \n",
       "3    2022-12-21 09:16:03+08:00  \n",
       "4    2022-12-21 09:48:31+08:00  \n",
       "...                        ...  \n",
       "1018 2022-12-19 02:36:01+08:00  \n",
       "1019 2022-12-19 07:22:59+08:00  \n",
       "1020 2022-12-19 02:58:52+08:00  \n",
       "1021 2022-12-19 08:07:00+08:00  \n",
       "1022 2022-12-19 02:11:25+08:00  \n",
       "\n",
       "[1023 rows x 7 columns]"
      ]
     },
     "execution_count": 3,
     "metadata": {},
     "output_type": "execute_result"
    }
   ],
   "source": [
    "# 假设有一个名为 \"dates\" 的列，其中包含时间字符串\n",
    "data['timestamps'] = pd.to_datetime(data['评论发表时间'], format=\"%a %b %d %H:%M:%S %z %Y\")\n",
    "data"
   ]
  },
  {
   "cell_type": "code",
   "execution_count": 4,
   "id": "408432a8",
   "metadata": {
    "ExecuteTime": {
     "end_time": "2022-12-30T09:06:22.718624Z",
     "start_time": "2022-12-30T09:06:22.689072Z"
    }
   },
   "outputs": [
    {
     "name": "stdout",
     "output_type": "stream",
     "text": [
      "<class 'pandas.core.frame.DataFrame'>\n",
      "RangeIndex: 1023 entries, 0 to 1022\n",
      "Data columns (total 7 columns):\n",
      " #   Column      Non-Null Count  Dtype                                \n",
      "---  ------      --------------  -----                                \n",
      " 0   评论发表时间      1023 non-null   object                               \n",
      " 1   评论内容        1023 non-null   object                               \n",
      " 2   评论发表地点      1019 non-null   object                               \n",
      " 3   点赞数         1023 non-null   int64                                \n",
      " 4   评论数         1023 non-null   int64                                \n",
      " 5   转发数         1023 non-null   int64                                \n",
      " 6   timestamps  1023 non-null   datetime64[ns, pytz.FixedOffset(480)]\n",
      "dtypes: datetime64[ns, pytz.FixedOffset(480)](1), int64(3), object(3)\n",
      "memory usage: 56.1+ KB\n"
     ]
    }
   ],
   "source": [
    "data.info()"
   ]
  },
  {
   "cell_type": "code",
   "execution_count": 5,
   "id": "7e47bda0",
   "metadata": {
    "ExecuteTime": {
     "end_time": "2022-12-30T09:06:51.384114Z",
     "start_time": "2022-12-30T09:06:22.720469Z"
    }
   },
   "outputs": [
    {
     "name": "stderr",
     "output_type": "stream",
     "text": [
      "D:\\Anaconda3\\envs\\visualization\\lib\\site-packages\\dtale\\views.py:746: FutureWarning:\n",
      "\n",
      "['评论发表地点'] did not aggregate successfully. If any error is raised this will raise in a future version of pandas. Drop these columns/ops to avoid this warning.\n",
      "\n"
     ]
    },
    {
     "data": {
      "text/html": [
       "\n",
       "        <iframe\n",
       "            width=\"100%\"\n",
       "            height=\"475\"\n",
       "            src=\"http://LAPTOP-LN5EEFF2:40000/dtale/iframe/1\"\n",
       "            frameborder=\"0\"\n",
       "            allowfullscreen\n",
       "            \n",
       "        ></iframe>\n",
       "        "
      ],
      "text/plain": [
       "<IPython.lib.display.IFrame at 0x2857bcb35b0>"
      ]
     },
     "metadata": {},
     "output_type": "display_data"
    },
    {
     "data": {
      "text/plain": []
     },
     "execution_count": 5,
     "metadata": {},
     "output_type": "execute_result"
    }
   ],
   "source": [
    "import dtale\n",
    "dtale.show(data)"
   ]
  },
  {
   "cell_type": "code",
   "execution_count": 6,
   "id": "f79c755c",
   "metadata": {
    "ExecuteTime": {
     "end_time": "2022-12-30T09:06:51.481852Z",
     "start_time": "2022-12-30T09:06:51.385112Z"
    }
   },
   "outputs": [],
   "source": [
    "comment_data = data['评论内容']\n",
    "import re\n",
    "links = []\n",
    "for i in comment_data:\n",
    "    link = re.findall(r'[\\u4e00-\\u9fa5]+', i)\n",
    "    for txt in link:\n",
    "        links.append(txt)\n",
    "\n",
    "sentences = \"\"\n",
    "for i in links:\n",
    "    sentences = sentences+i+\",\""
   ]
  },
  {
   "cell_type": "code",
   "execution_count": 7,
   "id": "c7e70586",
   "metadata": {
    "ExecuteTime": {
     "end_time": "2022-12-30T09:06:59.072191Z",
     "start_time": "2022-12-30T09:06:51.520748Z"
    }
   },
   "outputs": [
    {
     "name": "stderr",
     "output_type": "stream",
     "text": [
      "Building prefix dict from the default dictionary ...\n",
      "Loading model from cache C:\\Users\\12973\\AppData\\Local\\Temp\\jieba.cache\n",
      "Loading model cost 0.735 seconds.\n",
      "Prefix dict has been built successfully.\n"
     ]
    },
    {
     "name": "stdout",
     "output_type": "stream",
     "text": [
      "TF-IDF result\n",
      "阿根廷 1.398050037237127\n",
      "梅西 1.0650343418365442\n",
      "冠军 0.9134993941829321\n",
      "视频 0.2372086251740881\n",
      "球迷 0.1395518490342274\n",
      "决赛 0.10791844960281267\n",
      "全文 0.09018529414323354\n",
      "球员 0.07809738350330368\n",
      "卡塔尔 0.0766882387486307\n",
      "允悲 0.07204513116744714\n",
      "=========================\n",
      "TextRank result\n",
      "阿根廷 1.0\n",
      "冠军 0.653355978820308\n",
      "梅西 0.4612638914770075\n",
      "视频 0.15810429961273512\n",
      "球迷 0.09265774661085431\n",
      "法国 0.06901148163550401\n",
      "决赛 0.06081148493191806\n",
      "全文 0.05631755842080948\n",
      "俱乐部 0.05250417530468894\n",
      "卡塔尔 0.04443719420248365\n"
     ]
    }
   ],
   "source": [
    "import jieba\n",
    "import jieba.analyse\n",
    " \n",
    "keywords=jieba.analyse.extract_tags(sentences,topK=10,withWeight=True,allowPOS=('n','nr','ns'))\n",
    "#withweight:是否同时返回每个关键词的权重;allowPOS:词性过滤，为空表示不过滤，若提供则仅返回符合词性要求的关键词  默认为allowPOS=‘ns’, ‘n’, ‘vn’, ‘v’，提取地名、名词、动名词、动词\n",
    "#nr  人名\n",
    "#参考对应词性  https://blog.csdn.net/zhuzuwei/article/details/79029904\n",
    "print('TF-IDF result')\n",
    "for item in keywords:\n",
    "    print(item[0],item[1])\n",
    "print('=========================')\n",
    "keywords_1=jieba.analyse.textrank(sentences,topK=10,withWeight=True,allowPOS=('n','nr','ns'))\n",
    "print('TextRank result')\n",
    "for item in keywords_1:\n",
    "    print(item[0], item[1])"
   ]
  },
  {
   "cell_type": "markdown",
   "id": "f298791c",
   "metadata": {},
   "source": [
    "只保留在中国的地点"
   ]
  },
  {
   "cell_type": "code",
   "execution_count": 8,
   "id": "765ce430",
   "metadata": {
    "ExecuteTime": {
     "end_time": "2022-12-30T09:07:00.135276Z",
     "start_time": "2022-12-30T09:06:59.075182Z"
    }
   },
   "outputs": [
    {
     "name": "stdout",
     "output_type": "stream",
     "text": [
      "<class 'pandas.core.frame.DataFrame'>\n",
      "RangeIndex: 1023 entries, 0 to 1022\n",
      "Data columns (total 7 columns):\n",
      " #   Column      Non-Null Count  Dtype                                \n",
      "---  ------      --------------  -----                                \n",
      " 0   评论发表时间      1023 non-null   object                               \n",
      " 1   评论内容        1023 non-null   object                               \n",
      " 2   评论发表地点      1019 non-null   object                               \n",
      " 3   点赞数         1023 non-null   int64                                \n",
      " 4   评论数         1023 non-null   int64                                \n",
      " 5   转发数         1023 non-null   int64                                \n",
      " 6   timestamps  1023 non-null   datetime64[ns, pytz.FixedOffset(480)]\n",
      "dtypes: datetime64[ns, pytz.FixedOffset(480)](1), int64(3), object(3)\n",
      "memory usage: 56.1+ KB\n"
     ]
    }
   ],
   "source": [
    "# 假设有一个名为 \"location\" 的列，其中包含地点信息\n",
    "# 使用 isin() 函数过滤出所有在中国的地点\n",
    "df = data\n",
    "china_locations = data.loc[data['评论发表地点'].isin(['北京', '上海', '天津', '重庆', '河北', '山西', '内蒙古', '辽宁', '吉林', '黑龙江', '江苏', '浙江', '安徽', '福建', '江西', '山东', '河南', '湖北', '湖南', '广东', '广西', '海南', '四川', '贵州', '云南', '西藏', '陕西', '甘肃', '青海', '宁夏', '新疆']), :]\n",
    "\n",
    "data = data[data['评论发表地点'].isin(china_locations['评论发表地点'])]\n",
    "\n",
    "\n",
    "# 分组并求和\n",
    "df_sum = df.groupby('评论发表地点')['点赞数'].sum()\n",
    "\n",
    "# 将结果转换为数据帧\n",
    "df_sum = pd.DataFrame({'评论发表地点': df_sum.index, '点赞数': df_sum.values})\n",
    "\n",
    "\n",
    "from pyecharts.charts import Map  # 注意这里与老版本pyecharts调用的区别\n",
    "from pyecharts import options as opts\n",
    "import random\n",
    "data_province =  [list(z) for z in zip(df_sum['评论发表地点'], df_sum['点赞数'])]\n",
    "china_province = (\n",
    "Map()\n",
    "        .add('', data_province, 'china')\n",
    "        .set_global_opts(\n",
    "        title_opts=opts.TitleOpts(title='Provinces of China'),\n",
    "        visualmap_opts=opts.VisualMapOpts(\n",
    "            min_=0,\n",
    "            max_=100000,\n",
    "            is_piecewise=True)\n",
    "    )\n",
    "        .render(path='中国省级地图.html')\n",
    ")\n",
    "\n",
    "df.info()"
   ]
  },
  {
   "cell_type": "code",
   "execution_count": null,
   "id": "a19ddc53",
   "metadata": {},
   "outputs": [],
   "source": []
  }
 ],
 "metadata": {
  "kernelspec": {
   "display_name": "Python 3 (ipykernel)",
   "language": "python",
   "name": "python3"
  },
  "language_info": {
   "codemirror_mode": {
    "name": "ipython",
    "version": 3
   },
   "file_extension": ".py",
   "mimetype": "text/x-python",
   "name": "python",
   "nbconvert_exporter": "python",
   "pygments_lexer": "ipython3",
   "version": "3.9.15"
  },
  "toc": {
   "base_numbering": 1,
   "nav_menu": {},
   "number_sections": true,
   "sideBar": true,
   "skip_h1_title": false,
   "title_cell": "Table of Contents",
   "title_sidebar": "Contents",
   "toc_cell": false,
   "toc_position": {},
   "toc_section_display": true,
   "toc_window_display": false
  }
 },
 "nbformat": 4,
 "nbformat_minor": 5
}
