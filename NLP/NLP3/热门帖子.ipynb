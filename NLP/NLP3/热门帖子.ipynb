{
 "cells": [
  {
   "cell_type": "code",
   "execution_count": 1,
   "id": "ecc07032",
   "metadata": {
    "ExecuteTime": {
     "end_time": "2022-12-21T11:41:47.917693Z",
     "start_time": "2022-12-21T11:41:44.240302Z"
    }
   },
   "outputs": [],
   "source": [
    "import pandas as pd\n",
    "df = pd.read_csv(\"./data/nlp_spider_2.csv\")\n"
   ]
  },
  {
   "cell_type": "code",
   "execution_count": 3,
   "id": "e524cf2e",
   "metadata": {
    "ExecuteTime": {
     "end_time": "2022-12-21T11:41:56.865948Z",
     "start_time": "2022-12-21T11:41:56.855976Z"
    }
   },
   "outputs": [],
   "source": [
    "\n",
    "# 按值排序\n",
    "df_sorted = df.sort_values(by='点赞数', ascending=False)\n",
    "\n",
    "# 筛选出前 20 的数据\n",
    "df_top_20 = df_sorted.head(20)\n"
   ]
  },
  {
   "cell_type": "code",
   "execution_count": 13,
   "id": "e6e5705d",
   "metadata": {
    "ExecuteTime": {
     "end_time": "2022-12-21T11:49:08.468555Z",
     "start_time": "2022-12-21T11:49:08.452595Z"
    }
   },
   "outputs": [],
   "source": [
    "data = df_top_20\n",
    "comment_data = data['评论内容']\n",
    "import re\n",
    "links = []\n",
    "for i in comment_data:\n",
    "    link = re.findall(r'[\\u4e00-\\u9fa5]+', i)\n",
    "    for txt in link:\n",
    "        links.append(txt)\n",
    "\n",
    "sentences = \"\"\n",
    "for i in links:\n",
    "    sentences = sentences+i+\",\"\n"
   ]
  },
  {
   "cell_type": "code",
   "execution_count": 17,
   "id": "142bc48d",
   "metadata": {
    "ExecuteTime": {
     "end_time": "2022-12-21T11:50:03.964360Z",
     "start_time": "2022-12-21T11:50:03.956382Z"
    }
   },
   "outputs": [
    {
     "name": "stdout",
     "output_type": "stream",
     "text": [
      "金球奖梅西,年卡塔尔世界杯最有价值球员,梅西,实至名归,阿根廷冠军,图自视觉中国,梅西捧起大力神杯,梅西梦圆卡塔尔,阿根廷冠军,图自视觉中国,梅西捧起大力神杯,梅西梦圆卡塔尔,阿根廷冠军,图自视觉中国,游行中有人扔给梅西一个忍者神龟,阿根廷队夺得了本届世界杯冠军,目前球队已经回到国内,有球迷拍到,阿根廷冠军游行中有人扔给了梅西一个忍者神龟,梅西看着笑了笑后扔了回去,阿根廷冠军游行,阿根廷冠军,咪咕体育的微博视频,梅西,金球奖,阿根廷冠军,阿根廷新总统,梅西,这不是我说的,阿根廷前总统说的,梅西太不容易了,职业生涯堪称完美的球员,阿根廷籍,溜达老大爷,梅建军同志这几年开启了省电模式后,见缝插针,越老越妖,绝不让自己无效耗电,这不是服老,是智慧,是球商,罗我也很喜欢,但,全文,梅西,金球奖,阿根廷冠军,阿根廷新总统,梅西,这不是我说的,阿根廷前总统说的,梅西太不容易了,职业生涯堪称完美的球员,阿根廷籍,溜达老大爷,梅建军同志这几年开启了省电模式后,见缝插针,越老越妖,绝不让自己无效耗电,这不是服老,是智慧,是球商,罗我也很喜欢,但,全文,阿根廷冠军,昨晚法国球迷和阿根廷球迷的反应对比,年终欢乐大作战,微博幽默年度大赏,的微博视频,阿根廷冠军,嗓子太疼了坚持到了现在,心底的呐喊听见了吗,赢牛奶,赢牛奶,赢牛奶,恭喜阿根廷,恭喜梅西,历史第三次世界杯冠军,我,见证历史了,阿圭罗在阿根廷更衣室直播唱歌时嘲笑法国球员卡马文加,阿圭罗,为什么卡马文加长着一张,脸,阿根廷冠军,阿根廷,比,法国,英国足球那点事的微博视频,你怎能不为之动容,阿根廷夺冠之后,流浪汉得到了同为阿根廷人球迷赠予的球衣,当穿上球衣的那一刻,他失声痛哭,跪拜球队,庆祝阿根廷时隔,年夺得冠军,梅西封王,世界杯,阿根廷冠军,萨村小推的微博视频,图,现在镜头给到的是小将梅西,替补上场,梅西获得巴萨职业生涯第,粒进球,图,现在镜头给到的阿根廷传奇球星里奥,梅西,他曾带领阿根廷在,卡塔尔世界杯夺得冠军,过不了墨西哥,波兰送阿根廷回家,小组都出不了线,止步十六强,过不了澳大利亚,荷兰送阿根廷回家,荷兰,全文,阿根廷冠军,球王梅西,金靴姆巴佩,下半场最漂亮的世界杯决赛,喜欢上了姆巴佩,踢醒了,他用自己的卓越和顽强,极大程度的提高梅西的球王含金量,恭喜梅球王全满贯问鼎,也道一声姆总未来不可限量,阿根廷冠军,球王梅西,金靴姆巴佩,下半场最漂亮的世界杯决赛,喜欢上了姆巴佩,踢醒了,他用自己的卓越和顽强,极大程度的提高梅西的球王含金量,恭喜梅球王全满贯问鼎,也道一声姆总未来不可限量,安妞更新,头像了,梅西捧起大力神杯,阿根廷冠军,圆满了,梅西和大马丁,哈哈,哈哈,哈哈,阿根廷冠军,梅西捧起大力神杯,刚看到一个梅西,罗的数据对比,看到孩子,绯闻女友那一处确实蚌埠住了,允悲,罗这方面赢得很彻底,罗,遗憾,梅西发文庆祝夺冠,阿根廷冠军,球王又怎样,还不是得乖乖给老婆拍照,偷笑,拍得不好看还得被嫌弃,阿根廷冠军,梅西捧起大力神杯,恭喜梅西,请跟我一起说,感谢马爹,阿根廷冠军,恭喜梅西,阿根廷门将,斯卡洛尼换上了自己球员时期的国家队战袍,阿根廷夺冠,阿根廷冠军,梅西,斯卡洛尼换上了自己球员时期的国家队战袍,阿根廷夺冠,阿根廷冠军,梅西,\n"
     ]
    }
   ],
   "source": [
    "print(sentences)"
   ]
  },
  {
   "cell_type": "code",
   "execution_count": null,
   "id": "7334f894",
   "metadata": {},
   "outputs": [],
   "source": []
  }
 ],
 "metadata": {
  "kernelspec": {
   "display_name": "Python 3 (ipykernel)",
   "language": "python",
   "name": "python3"
  },
  "language_info": {
   "codemirror_mode": {
    "name": "ipython",
    "version": 3
   },
   "file_extension": ".py",
   "mimetype": "text/x-python",
   "name": "python",
   "nbconvert_exporter": "python",
   "pygments_lexer": "ipython3",
   "version": "3.9.15"
  },
  "toc": {
   "base_numbering": 1,
   "nav_menu": {},
   "number_sections": true,
   "sideBar": true,
   "skip_h1_title": false,
   "title_cell": "Table of Contents",
   "title_sidebar": "Contents",
   "toc_cell": false,
   "toc_position": {},
   "toc_section_display": true,
   "toc_window_display": false
  }
 },
 "nbformat": 4,
 "nbformat_minor": 5
}
